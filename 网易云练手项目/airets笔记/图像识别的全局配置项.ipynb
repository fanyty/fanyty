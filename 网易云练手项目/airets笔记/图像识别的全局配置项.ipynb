{
 "cells": [
  {
   "cell_type": "code",
   "execution_count": null,
   "metadata": {},
   "outputs": [],
   "source": [
    "https://airtest.doc.io.netease.com/tutorial/2_Airtest_introduction/ "
   ]
  },
  {
   "cell_type": "markdown",
   "metadata": {},
   "source": [
    "在上一小节中，我们介绍了图像模板类Template的各项参数，当我们修改那些参数时，只有对应的那张图片会生效，举个例子：\n"
   ]
  },
  {
   "cell_type": "markdown",
   "metadata": {},
   "source": [
    "touch(Template(r\"tpl1556019871196.png\", threshold=0.9)"
   ]
  },
  {
   "cell_type": "markdown",
   "metadata": {},
   "source": [
    "在这行代码中，我们将一张图片的识别阈值threshold设置为0.9，意思是当识别结果的可信度大于等于90%时，我们才认为这次图像识别匹配成功，是一个相当严格的设置了。\n",
    "\n",
    "假如我们希望能够将这个设置扩展到整个脚本中的所有图片，又不希望挨个修改每张图片的代码时，我们可以考虑修改Airtest的全局配置来实现这个需求："
   ]
  },
  {
   "cell_type": "code",
   "execution_count": null,
   "metadata": {},
   "outputs": [],
   "source": [
    "from airtest.core.api import *\n",
    "#airtest.core.api中包含了一个名为ST的变量，即为全局变量\n",
    "ST.THRESHOLD = 0.8\n",
    "#未指定图片threshold,即默认使用ST.THRESHOLD中的0.8\n",
    "touch(Template(r\"tpl1560265127136.png\"),record_pods=(0.779,0.382),reslotion=(1920,1080))\n",
    "#手工指定图片threshold，以图片设置的0.6为准\n",
    "touch(Template(r\"tpl1532588127987.png\", record_pos=(0.779, 0.382), resolution=(407, 264), threshold=0.6))"
   ]
  },
  {
   "cell_type": "code",
   "execution_count": null,
   "metadata": {},
   "outputs": [],
   "source": []
  }
 ],
 "metadata": {
  "kernelspec": {
   "display_name": "Python 3",
   "language": "python",
   "name": "python3"
  },
  "language_info": {
   "name": "python",
   "version": "3.12.3"
  }
 },
 "nbformat": 4,
 "nbformat_minor": 2
}
